{
 "cells": [
  {
   "cell_type": "markdown",
   "id": "d55813e4-922a-437d-99e5-09215220eba3",
   "metadata": {
    "tags": []
   },
   "source": [
    "# Basic Data Exploration\n",
    "[Pandas](https://pandas.pydata.org/) is the primary tool data scientists use for exploring and manipulating data."
   ]
  },
  {
   "cell_type": "code",
   "execution_count": null,
   "id": "c5689bd1-b38b-4ac3-9ba3-3368cbdcbe08",
   "metadata": {},
   "outputs": [],
   "source": [
    "# default pandas import\n",
    "import pandas as pd"
   ]
  },
  {
   "cell_type": "markdown",
   "id": "08004df2-0dd1-4d00-84a2-eed22fce86bf",
   "metadata": {},
   "source": [
    "A Pandas' DataFrame holds the type of data you might think of as a table. This is similar to a sheet in Excel, or a table in a SQL database.\n",
    "\n",
    "Pandas has powerful methods for most things you'll want to do with this type of data."
   ]
  }
 ],
 "metadata": {
  "kernelspec": {
   "display_name": "Python 3",
   "language": "python",
   "name": "python3"
  },
  "language_info": {
   "codemirror_mode": {
    "name": "ipython",
    "version": 3
   },
   "file_extension": ".py",
   "mimetype": "text/x-python",
   "name": "python",
   "nbconvert_exporter": "python",
   "pygments_lexer": "ipython3",
   "version": "3.9.5"
  }
 },
 "nbformat": 4,
 "nbformat_minor": 5
}
